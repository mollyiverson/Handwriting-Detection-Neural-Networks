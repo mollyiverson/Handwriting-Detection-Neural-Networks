{
  "nbformat": 4,
  "nbformat_minor": 0,
  "metadata": {
    "colab": {
      "provenance": [],
      "collapsed_sections": [
        "vfm4wBNTnp4B",
        "ZQ4ziLi7n8C7",
        "eOP3tgnEoBQ_",
        "BiZlW4xWoJhI",
        "qqT4DaFsoOcf"
      ]
    },
    "kernelspec": {
      "name": "python3",
      "display_name": "Python 3"
    },
    "language_info": {
      "name": "python"
    }
  },
  "cells": [
    {
      "cell_type": "markdown",
      "source": [
        "# MNIST Digit Classification: 2-Layer Neural Network Implementation w/ 300 Hidden Units\n",
        "\n",
        "\n",
        "**Project:** Digit Detection System\n",
        "\n",
        "**Class:** CPT_S 437 Machine Learning\n",
        "\n",
        "**Team Members:** Molly Iverson, Caitlin Graves, Chandler Juego"
      ],
      "metadata": {
        "id": "lE5NEQhGL1Z_"
      }
    },
    {
      "cell_type": "markdown",
      "source": [
        "# Summary\n",
        "\n",
        "## Model Overview\n",
        "\n",
        "This implementation focuses on a simple yet foundational two-layer neural network designed to classify handwritten digits from the MNIST dataset. The goal was to develop a basic neural network that can recognize and classify individual digits with reasonable accuracy.\n",
        "\n",
        "## Dataset\n",
        "\n",
        "Source: MNIST (Modified National Institute of Standards and Technology) Dataset\n",
        "\n",
        "Description: Handwritten digit images\n",
        "\n",
        "Dimensions: 28x28 pixel grayscale images\n",
        "\n",
        "Classes: 10 digits (0-9)\n",
        "\n",
        "Training Set Size: 60,000 images\n",
        "\n",
        "Test Set Size: 10,000 images\n",
        "\n",
        "## Network Architecture\n",
        "\n",
        "Input Layer: 784 neurons (28x28 flattened image)\n",
        "\n",
        "Hidden Layer: 300 neurons with ReLU activation\n",
        "\n",
        "Output Layer: 10 neurons with Softmax activation\n",
        "\n",
        "## Techniques\n",
        "\n",
        "### Preprocessing Data\n",
        "1. Pixel Normalization: Scaled pixel values from [0, 255] to [0, 1]\n",
        "\n",
        "2. One-Hot Encoding: Converted integer labels to categorical vectors\n",
        "\n",
        "### Model Techniques\n",
        "1. Activation Functions\n",
        "- Hidden Layer: ReLU (Rectified Linear Unit)\n",
        "  - If input is negative: output is 0\n",
        "  - If input is positive: output is the input itself\n",
        "  - Unlike sigmoid/tanh, ReLU doesn't \"squash\" positive values\n",
        "  - Simple mathematical operation\n",
        "  - Very fast to compute\n",
        "  - Low computational overhead\n",
        "\n",
        "- Output Layer: Softmax\n",
        "  - Provides probabilistic interpretation of classification\n",
        "  - Ensures output probabilities sum to 1\n",
        "\n",
        "2. Weights Initialization\n",
        "- He Initialization\n",
        "  - Specifically designed for ReLU activation\n",
        "  - Helps prevent vanishing/exploding gradients: values become too small/too large\n",
        "  - Improves initial model convergence\n",
        "\n",
        "3. Loss Function\n",
        "- Cross-Entropy Loss\n",
        "  - Measures how well predicted probabilities match true labels and punishes confident wrong predictions more heavily\n",
        "  - More suitable for multi-class classification\n",
        "  - Provides better gradient information\n",
        "\n",
        "4. Optimization Strategies\n",
        "- Mini-Batch Gradient Descent\n",
        "  - Improved training stability\n",
        "- Learning Rate Decay\n",
        "  - Dynamically adjusted learning rate\n",
        "\n",
        "\n",
        "\n",
        "\n"
      ],
      "metadata": {
        "id": "g17i8IAfxHSe"
      }
    },
    {
      "cell_type": "markdown",
      "source": [
        "## Import Libraries"
      ],
      "metadata": {
        "id": "vfm4wBNTnp4B"
      }
    },
    {
      "cell_type": "code",
      "source": [
        "import numpy as np\n",
        "import matplotlib.pyplot as plt\n",
        "from sklearn.model_selection import train_test_split\n",
        "from sklearn.preprocessing import OneHotEncoder\n",
        "import kagglehub\n",
        "import struct\n",
        "from array import array\n"
      ],
      "metadata": {
        "id": "7Nh23HUFnu-u"
      },
      "execution_count": null,
      "outputs": []
    },
    {
      "cell_type": "markdown",
      "source": [
        "## Load MNIST Dataset"
      ],
      "metadata": {
        "id": "ZQ4ziLi7n8C7"
      }
    },
    {
      "cell_type": "code",
      "source": [
        "# Download MNIST dataset\n",
        "input_path = kagglehub.dataset_download('hojjatk/mnist-dataset')\n",
        "print('Path to dataset files:', input_path)\n",
        "\n",
        "training_images_filepath = input_path + '/train-images.idx3-ubyte'\n",
        "training_labels_filepath = input_path + '/train-labels.idx1-ubyte'\n",
        "test_images_filepath = input_path + '/t10k-images.idx3-ubyte'\n",
        "test_labels_filepath = input_path + '/t10k-labels.idx1-ubyte'\n",
        "\n",
        "# Function to load images\n",
        "def load_images(img_path):\n",
        "    with open(img_path, 'rb') as f:\n",
        "        magic, size, rows, cols = struct.unpack(\">IIII\", f.read(16))\n",
        "        if magic != 2051:\n",
        "            raise ValueError(f\"Invalid magic number {magic} in {img_path}\")\n",
        "        images = np.frombuffer(f.read(), dtype=np.uint8).reshape(size, rows * cols)\n",
        "    return images\n",
        "\n",
        "# Function to load labels\n",
        "def load_labels(lbl_path):\n",
        "    with open(lbl_path, 'rb') as f:\n",
        "        magic, size = struct.unpack(\">II\", f.read(8))\n",
        "        if magic != 2049:\n",
        "            raise ValueError(f\"Invalid magic number {magic} in {lbl_path}\")\n",
        "        labels = np.frombuffer(f.read(), dtype=np.uint8)\n",
        "    return labels\n",
        "\n",
        "# Load data\n",
        "X_train = load_images(training_images_filepath)\n",
        "y_train = load_labels(training_labels_filepath)\n",
        "X_test = load_images(test_images_filepath)\n",
        "y_test = load_labels(test_labels_filepath)\n",
        "\n",
        "# Normalize pixel values (0-255 -> 0-1)\n",
        "X_train = X_train / 255.0\n",
        "X_test = X_test / 255.0\n",
        "\n",
        "# Print shapes for verification\n",
        "print(\"X_train shape:\", X_train.shape)\n",
        "print(\"y_train shape:\", y_train.shape)\n",
        "print(\"X_test shape:\", X_test.shape)\n",
        "print(\"y_test shape:\", y_test.shape)\n"
      ],
      "metadata": {
        "colab": {
          "base_uri": "https://localhost:8080/"
        },
        "id": "umJIHHSHn-l1",
        "outputId": "7df18f0f-bf56-453a-8ae8-74b7fe53d1eb"
      },
      "execution_count": null,
      "outputs": [
        {
          "output_type": "stream",
          "name": "stdout",
          "text": [
            "Path to dataset files: /root/.cache/kagglehub/datasets/hojjatk/mnist-dataset/versions/1\n",
            "X_train shape: (60000, 784)\n",
            "y_train shape: (60000,)\n",
            "X_test shape: (10000, 784)\n",
            "y_test shape: (10000,)\n"
          ]
        }
      ]
    },
    {
      "cell_type": "markdown",
      "source": [
        "## Preprocess Labels"
      ],
      "metadata": {
        "id": "eOP3tgnEoBQ_"
      }
    },
    {
      "cell_type": "code",
      "source": [
        "# Convert labels to one-hot encoding\n",
        "encoder = OneHotEncoder(sparse_output=False)\n",
        "y_train_onehot = encoder.fit_transform(y_train.reshape(-1, 1))\n",
        "y_test_onehot = encoder.transform(y_test.reshape(-1, 1))\n",
        "\n",
        "# Print example of one-hot encoded labels\n",
        "print(\"Example of one-hot encoded labels:\")\n",
        "print(y_train_onehot[:5])\n"
      ],
      "metadata": {
        "colab": {
          "base_uri": "https://localhost:8080/"
        },
        "id": "LSNQRz4QoHuK",
        "outputId": "919788f2-4814-435b-ac42-562cbe829aaa"
      },
      "execution_count": null,
      "outputs": [
        {
          "output_type": "stream",
          "name": "stdout",
          "text": [
            "Example of one-hot encoded labels:\n",
            "[[0. 0. 0. 0. 0. 1. 0. 0. 0. 0.]\n",
            " [1. 0. 0. 0. 0. 0. 0. 0. 0. 0.]\n",
            " [0. 0. 0. 0. 1. 0. 0. 0. 0. 0.]\n",
            " [0. 1. 0. 0. 0. 0. 0. 0. 0. 0.]\n",
            " [0. 0. 0. 0. 0. 0. 0. 0. 0. 1.]]\n"
          ]
        }
      ]
    },
    {
      "cell_type": "markdown",
      "source": [
        "## Initialize the Neural Network Parameters"
      ],
      "metadata": {
        "id": "BiZlW4xWoJhI"
      }
    },
    {
      "cell_type": "code",
      "source": [
        "# Define network architecture\n",
        "input_size = 784  # 28x28 flattened\n",
        "hidden_size = 300  # Number of neurons in the hidden layer\n",
        "output_size = 10   # Number of classes (digits 0-9)\n",
        "\n",
        "# Initialize weights and biases\n",
        "np.random.seed(42)\n",
        "W1 = np.random.randn(input_size, hidden_size) * 0.01\n",
        "b1 = np.zeros((1, hidden_size))\n",
        "W2 = np.random.randn(hidden_size, output_size) * 0.01\n",
        "b2 = np.zeros((1, output_size))\n",
        "\n",
        "# Print parameter shapes\n",
        "print(\"W1 shape:\", W1.shape)\n",
        "print(\"b1 shape:\", b1.shape)\n",
        "print(\"W2 shape:\", W2.shape)\n",
        "print(\"b2 shape:\", b2.shape)\n"
      ],
      "metadata": {
        "colab": {
          "base_uri": "https://localhost:8080/"
        },
        "id": "JT_rpASUoL4V",
        "outputId": "dd2d1333-378a-4814-a703-2cd5896c9b64"
      },
      "execution_count": null,
      "outputs": [
        {
          "output_type": "stream",
          "name": "stdout",
          "text": [
            "W1 shape: (784, 300)\n",
            "b1 shape: (1, 300)\n",
            "W2 shape: (300, 10)\n",
            "b2 shape: (1, 10)\n"
          ]
        }
      ]
    },
    {
      "cell_type": "markdown",
      "source": [
        "## Forward and Backward Propagation"
      ],
      "metadata": {
        "id": "qqT4DaFsoOcf"
      }
    },
    {
      "cell_type": "code",
      "source": [
        "def relu(z):\n",
        "    return np.maximum(0, z)\n",
        "\n",
        "def relu_derivative(z):\n",
        "    return (z > 0).astype(float)\n",
        "\n",
        "def softmax(z):\n",
        "    exp_z = np.exp(z - np.max(z, axis=1, keepdims=True))\n",
        "    return exp_z / np.sum(exp_z, axis=1, keepdims=True)\n",
        "\n",
        "# Cross-entropy loss\n",
        "def cross_entropy_loss(y_true, y_pred):\n",
        "    m = y_true.shape[0]\n",
        "    epsilon = 1e-15\n",
        "    y_pred = np.clip(y_pred, epsilon, 1 - epsilon)\n",
        "    return -np.sum(y_true * np.log(y_pred)) / m\n",
        "\n",
        "# Improved weight initialization\n",
        "def he_init(shape):\n",
        "    return np.random.randn(*shape) * np.sqrt(2 / shape[0])\n",
        "\n",
        "# Forward propagation\n",
        "def forward_propagation(X, W1, b1, W2, b2):\n",
        "    Z1 = np.dot(X, W1) + b1\n",
        "    A1 = relu(Z1)\n",
        "    Z2 = np.dot(A1, W2) + b2\n",
        "    A2 = softmax(Z2)\n",
        "    return Z1, A1, Z2, A2\n",
        "\n",
        "# Backward propagation\n",
        "def backward_propagation(X, y, Z1, A1, Z2, A2, W1, W2):\n",
        "    m = X.shape[0]\n",
        "\n",
        "    # Softmax + Cross-Entropy derivative\n",
        "    dZ2 = A2 - y\n",
        "    dW2 = np.dot(A1.T, dZ2) / m\n",
        "    db2 = np.sum(dZ2, axis=0, keepdims=True) / m\n",
        "\n",
        "    # ReLU derivative\n",
        "    dZ1 = np.dot(dZ2, W2.T) * relu_derivative(Z1)\n",
        "    dW1 = np.dot(X.T, dZ1) / m\n",
        "    db1 = np.sum(dZ1, axis=0, keepdims=True) / m\n",
        "\n",
        "    return dW1, db1, dW2, db2"
      ],
      "metadata": {
        "id": "NYFL1L0SoToy"
      },
      "execution_count": null,
      "outputs": []
    },
    {
      "cell_type": "markdown",
      "source": [
        "## Training"
      ],
      "metadata": {
        "id": "IuOWncaGoVpf"
      }
    },
    {
      "cell_type": "code",
      "source": [
        "learning_rate = 0.01\n",
        "decay_rate = 0.1\n",
        "epochs = 200\n",
        "batch_size = 64\n",
        "\n",
        "# Initialize weights with He initialization\n",
        "W1 = he_init((input_size, hidden_size))\n",
        "b1 = np.zeros((1, hidden_size))\n",
        "W2 = he_init((hidden_size, output_size))\n",
        "b2 = np.zeros((1, output_size))\n",
        "\n",
        "# Training loop with mini-batch and learning rate decay\n",
        "losses = []\n",
        "accuracies = []\n",
        "\n",
        "for epoch in range(epochs):\n",
        "    # Learning rate decay\n",
        "    current_lr = learning_rate / (1 + decay_rate * epoch)\n",
        "\n",
        "    # Mini-batch training\n",
        "    for i in range(0, X_train.shape[0], batch_size):\n",
        "        X_batch = X_train[i:i+batch_size]\n",
        "        y_batch = y_train_onehot[i:i+batch_size]\n",
        "\n",
        "        # Forward propagation\n",
        "        Z1, A1, Z2, A2 = forward_propagation(X_batch, W1, b1, W2, b2)\n",
        "\n",
        "        # Compute loss\n",
        "        loss = cross_entropy_loss(y_batch, A2)\n",
        "        losses.append(loss)\n",
        "\n",
        "        # Backward propagation\n",
        "        dW1, db1, dW2, db2 = backward_propagation(X_batch, y_batch, Z1, A1, Z2, A2, W1, W2)\n",
        "\n",
        "        # Update weights and biases\n",
        "        W1 -= current_lr * dW1\n",
        "        b1 -= current_lr * db1\n",
        "        W2 -= current_lr * dW2\n",
        "        b2 -= current_lr * db2\n",
        "\n",
        "    # Compute training accuracy for monitoring\n",
        "    _, _, _, A2_train = forward_propagation(X_train, W1, b1, W2, b2)\n",
        "    y_pred_train = np.argmax(A2_train, axis=1)\n",
        "    y_true_train = np.argmax(y_train_onehot, axis=1)\n",
        "    train_accuracy = np.mean(y_pred_train == y_true_train)\n",
        "    accuracies.append(train_accuracy)\n",
        "\n",
        "    # Print progress\n",
        "    if (epoch + 1) % 10 == 0:\n",
        "        print(f\"Epoch {epoch + 1}/{epochs}, Loss: {loss:.4f}, Train Accuracy: {train_accuracy*100:.2f}%\")\n",
        "\n",
        "# Plotting\n",
        "plt.figure(figsize=(12,4))\n",
        "plt.subplot(121)\n",
        "plt.plot(losses)\n",
        "plt.title('Training Loss')\n",
        "plt.xlabel('Iterations')\n",
        "plt.ylabel('Loss')\n",
        "\n",
        "plt.subplot(122)\n",
        "plt.plot(accuracies)\n",
        "plt.title('Training Accuracy')\n",
        "plt.xlabel('Epochs')\n",
        "plt.ylabel('Accuracy')\n",
        "plt.tight_layout()\n",
        "plt.show()\n"
      ],
      "metadata": {
        "colab": {
          "base_uri": "https://localhost:8080/",
          "height": 762
        },
        "id": "DPR_tPcRoYFd",
        "outputId": "43637ad9-0412-453c-9cdb-ee96a08bf4a5"
      },
      "execution_count": null,
      "outputs": [
        {
          "output_type": "stream",
          "name": "stdout",
          "text": [
            "Epoch 10/200, Loss: 0.0911, Train Accuracy: 93.41%\n",
            "Epoch 20/200, Loss: 0.0673, Train Accuracy: 94.58%\n",
            "Epoch 30/200, Loss: 0.0587, Train Accuracy: 95.21%\n",
            "Epoch 40/200, Loss: 0.0539, Train Accuracy: 95.53%\n",
            "Epoch 50/200, Loss: 0.0509, Train Accuracy: 95.78%\n",
            "Epoch 60/200, Loss: 0.0485, Train Accuracy: 95.97%\n",
            "Epoch 70/200, Loss: 0.0467, Train Accuracy: 96.14%\n",
            "Epoch 80/200, Loss: 0.0450, Train Accuracy: 96.27%\n",
            "Epoch 90/200, Loss: 0.0436, Train Accuracy: 96.41%\n",
            "Epoch 100/200, Loss: 0.0424, Train Accuracy: 96.50%\n",
            "Epoch 110/200, Loss: 0.0414, Train Accuracy: 96.62%\n",
            "Epoch 120/200, Loss: 0.0404, Train Accuracy: 96.69%\n",
            "Epoch 130/200, Loss: 0.0396, Train Accuracy: 96.77%\n",
            "Epoch 140/200, Loss: 0.0387, Train Accuracy: 96.84%\n",
            "Epoch 150/200, Loss: 0.0380, Train Accuracy: 96.88%\n",
            "Epoch 160/200, Loss: 0.0373, Train Accuracy: 96.93%\n",
            "Epoch 170/200, Loss: 0.0367, Train Accuracy: 96.97%\n",
            "Epoch 180/200, Loss: 0.0361, Train Accuracy: 97.01%\n",
            "Epoch 190/200, Loss: 0.0356, Train Accuracy: 97.06%\n",
            "Epoch 200/200, Loss: 0.0351, Train Accuracy: 97.10%\n"
          ]
        },
        {
          "output_type": "display_data",
          "data": {
            "text/plain": [
              "<Figure size 1200x400 with 2 Axes>"
            ],
            "image/png": "[encoded data removed]"
          },
          "metadata": {}
        }
      ]
    },
    {
      "cell_type": "markdown",
      "source": [
        "## Evaluation"
      ],
      "metadata": {
        "id": "mE2_Pbf8oZ6L"
      }
    },
    {
      "cell_type": "code",
      "source": [
        "# Test the model\n",
        "_, _, _, A2_test = forward_propagation(X_test, W1, b1, W2, b2)\n",
        "y_pred = np.argmax(A2_test, axis=1)\n",
        "y_true = np.argmax(y_test_onehot, axis=1)\n",
        "\n",
        "# Calculate accuracy\n",
        "accuracy = np.mean(y_pred == y_true)\n",
        "print(f\"Test Accuracy: {accuracy * 100:.2f}%\")\n"
      ],
      "metadata": {
        "colab": {
          "base_uri": "https://localhost:8080/"
        },
        "id": "EIQh0ZLEobWi",
        "outputId": "dcc6310f-039c-4b26-b8f9-252c24a54492"
      },
      "execution_count": null,
      "outputs": [
        {
          "output_type": "stream",
          "name": "stdout",
          "text": [
            "Test Accuracy: 96.54%\n"
          ]
        }
      ]
    }
  ]
}