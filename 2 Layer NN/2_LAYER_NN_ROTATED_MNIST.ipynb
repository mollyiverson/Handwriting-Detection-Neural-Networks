{
  "cells": [
    {
      "cell_type": "markdown",
      "metadata": {
        "id": "lE5NEQhGL1Z_"
      },
      "source": [
        "# MNIST Digit Classification: 2-Layer Neural Network Implementation w/ 300 Hidden Units\n",
        "\n",
        "\n",
        "**Project:** Digit Detection System\n",
        "\n",
        "**Class:** CPT_S 437 Machine Learning\n",
        "\n",
        "**Team Members:** Molly Iverson, Caitlin Graves, Chandler Juego"
      ]
    },
    {
      "cell_type": "markdown",
      "metadata": {
        "id": "g17i8IAfxHSe"
      },
      "source": [
        "# Summary\n",
        "\n",
        "## Model Overview\n",
        "\n",
        "This implementation focuses on a simple yet foundational two-layer neural network designed to classify handwritten digits from the MNIST dataset. The goal was to develop a basic neural network that can recognize and classify individual digits with reasonable accuracy.\n",
        "\n",
        "## Dataset\n",
        "\n",
        "Source: MNIST (Modified National Institute of Standards and Technology) Dataset\n",
        "\n",
        "Description: Handwritten digit images\n",
        "\n",
        "Dimensions: 28x28 pixel grayscale images\n",
        "\n",
        "Classes: 10 digits (0-9)\n",
        "\n",
        "Training Set Size: 60,000 images\n",
        "\n",
        "Test Set Size: 10,000 images\n",
        "\n",
        "## Network Architecture\n",
        "\n",
        "Input Layer: 784 neurons (28x28 flattened image)\n",
        "\n",
        "Hidden Layer: 300 neurons with ReLU activation\n",
        "\n",
        "Output Layer: 10 neurons with Softmax activation\n",
        "\n",
        "## Techniques\n",
        "\n",
        "### Preprocessing Data\n",
        "1. Pixel Normalization: Scaled pixel values from [0, 255] to [0, 1]\n",
        "\n",
        "2. One-Hot Encoding: Converted integer labels to categorical vectors\n",
        "\n",
        "### Model Techniques\n",
        "1. Activation Functions\n",
        "- Hidden Layer: ReLU (Rectified Linear Unit)\n",
        "  - If input is negative: output is 0\n",
        "  - If input is positive: output is the input itself\n",
        "  - Unlike sigmoid/tanh, ReLU doesn't \"squash\" positive values\n",
        "  - Simple mathematical operation\n",
        "  - Very fast to compute\n",
        "  - Low computational overhead\n",
        "\n",
        "- Output Layer: Softmax\n",
        "  - Provides probabilistic interpretation of classification\n",
        "  - Ensures output probabilities sum to 1\n",
        "\n",
        "2. Weights Initialization\n",
        "- He Initialization\n",
        "  - Specifically designed for ReLU activation\n",
        "  - Helps prevent vanishing/exploding gradients: values become too small/too large\n",
        "  - Improves initial model convergence\n",
        "\n",
        "3. Loss Function\n",
        "- Cross-Entropy Loss\n",
        "  - Measures how well predicted probabilities match true labels and punishes confident wrong predictions more heavily\n",
        "  - More suitable for multi-class classification\n",
        "  - Provides better gradient information\n",
        "\n",
        "4. Optimization Strategies\n",
        "- Mini-Batch Gradient Descent\n",
        "  - Improved training stability\n",
        "- Learning Rate Decay\n",
        "  - Dynamically adjusted learning rate\n",
        "\n",
        "\n",
        "\n",
        "\n"
      ]
    },
    {
      "cell_type": "markdown",
      "metadata": {
        "id": "vfm4wBNTnp4B"
      },
      "source": [
        "## Import Libraries"
      ]
    },
    {
      "cell_type": "code",
      "execution_count": null,
      "metadata": {
        "id": "7Nh23HUFnu-u"
      },
      "outputs": [],
      "source": [
        "import numpy as np\n",
        "import matplotlib.pyplot as plt\n",
        "from sklearn.model_selection import train_test_split\n",
        "from sklearn.preprocessing import OneHotEncoder\n",
        "import kagglehub\n",
        "import struct\n",
        "from array import array\n"
      ]
    },
    {
      "cell_type": "markdown",
      "metadata": {
        "id": "ZQ4ziLi7n8C7"
      },
      "source": [
        "## Load MNIST Dataset"
      ]
    },
    {
      "cell_type": "code",
      "execution_count": null,
      "metadata": {
        "colab": {
          "base_uri": "https://localhost:8080/"
        },
        "id": "umJIHHSHn-l1",
        "outputId": "febd5d74-30fd-4b61-b301-47a924f47899"
      },
      "outputs": [
        {
          "name": "stdout",
          "output_type": "stream",
          "text": [
            "Path to dataset files: /root/.cache/kagglehub/datasets/saiteja0101/rotated-mnist/versions/1\n",
            "X_train shape: (50000, 784)\n",
            "y_train shape: (50000,)\n",
            "X_test shape: (12000, 784)\n",
            "y_test shape: (12000,)\n"
          ]
        }
      ],
      "source": [
        "# Download MNIST dataset\n",
        "#input_path = kagglehub.dataset_download('hojjatk/mnist-dataset')\n",
        "# Download the Rotated MNIST dataset\n",
        "input_path = kagglehub.dataset_download('saiteja0101/rotated-mnist')\n",
        "train_file = input_path + '/mnist_all_rotation_normalized_float_train_valid.amat'\n",
        "test_file = input_path + '/mnist_all_rotation_normalized_float_test.amat'\n",
        "\n",
        "print('Path to dataset files:', input_path)\n",
        "\n",
        "#training_images_filepath = input_path + '/train-images.idx3-ubyte'\n",
        "#training_labels_filepath = input_path + '/train-labels.idx1-ubyte'\n",
        "#test_images_filepath = input_path + '/t10k-images.idx3-ubyte'\n",
        "#test_labels_filepath = input_path + '/t10k-labels.idx1-ubyte'\n",
        "\n",
        "# Function to load images\n",
        "'''\n",
        "def load_images(img_path):\n",
        "    with open(img_path, 'rb') as f:\n",
        "        magic, size, rows, cols = struct.unpack(\">IIII\", f.read(16))\n",
        "        if magic != 2051:\n",
        "            raise ValueError(f\"Invalid magic number {magic} in {img_path}\")\n",
        "        images = np.frombuffer(f.read(), dtype=np.uint8).reshape(size, rows * cols)\n",
        "    return images\n",
        "\n",
        "# Function to load labels\n",
        "def load_labels(lbl_path):\n",
        "    with open(lbl_path, 'rb') as f:\n",
        "        magic, size = struct.unpack(\">II\", f.read(8))\n",
        "        if magic != 2049:\n",
        "            raise ValueError(f\"Invalid magic number {magic} in {lbl_path}\")\n",
        "        labels = np.frombuffer(f.read(), dtype=np.uint8)\n",
        "    return labels\n",
        "'''\n",
        "\n",
        "# Function to load .amat data\n",
        "# Load and preprocess the dataset\n",
        "def load_amat(file_path):\n",
        "    data = np.loadtxt(file_path)\n",
        "    X = data[:, :-1]  # All columns except the last are features (flattened image)\n",
        "    y = data[:, -1]   # The last column is the label\n",
        "    return X, y\n",
        "\n",
        "# Load data\n",
        "X_train, y_train = load_amat(test_file)\n",
        "X_test, y_test = load_amat(train_file)\n",
        "\n",
        "# Normalize pixel values (0-255 -> 0-1)\n",
        "X_train = X_train / 255.0\n",
        "X_test = X_test / 255.0\n",
        "\n",
        "# Print shapes for verification\n",
        "print(\"X_train shape:\", X_train.shape)\n",
        "print(\"y_train shape:\", y_train.shape)\n",
        "print(\"X_test shape:\", X_test.shape)\n",
        "print(\"y_test shape:\", y_test.shape)\n"
      ]
    },
    {
      "cell_type": "markdown",
      "metadata": {
        "id": "eOP3tgnEoBQ_"
      },
      "source": [
        "## Preprocess Labels"
      ]
    },
    {
      "cell_type": "code",
      "execution_count": null,
      "metadata": {
        "colab": {
          "base_uri": "https://localhost:8080/"
        },
        "id": "LSNQRz4QoHuK",
        "outputId": "72956bdb-5f10-4f2e-fdd0-e24c683f9361"
      },
      "outputs": [
        {
          "name": "stdout",
          "output_type": "stream",
          "text": [
            "Example of one-hot encoded labels:\n",
            "[[0. 0. 0. 0. 0. 0. 1. 0. 0. 0.]\n",
            " [1. 0. 0. 0. 0. 0. 0. 0. 0. 0.]\n",
            " [0. 0. 0. 0. 0. 0. 1. 0. 0. 0.]\n",
            " [0. 0. 1. 0. 0. 0. 0. 0. 0. 0.]\n",
            " [0. 0. 0. 0. 0. 0. 1. 0. 0. 0.]]\n"
          ]
        }
      ],
      "source": [
        "# Convert labels to one-hot encoding\n",
        "encoder = OneHotEncoder(sparse_output=False)\n",
        "y_train_onehot = encoder.fit_transform(y_train.reshape(-1, 1))\n",
        "y_test_onehot = encoder.transform(y_test.reshape(-1, 1))\n",
        "\n",
        "# Print example of one-hot encoded labels\n",
        "print(\"Example of one-hot encoded labels:\")\n",
        "print(y_train_onehot[:5])\n"
      ]
    },
    {
      "cell_type": "markdown",
      "metadata": {
        "id": "BiZlW4xWoJhI"
      },
      "source": [
        "## Initialize the Neural Network Parameters"
      ]
    },
    {
      "cell_type": "code",
      "execution_count": null,
      "metadata": {
        "colab": {
          "base_uri": "https://localhost:8080/"
        },
        "id": "JT_rpASUoL4V",
        "outputId": "47f3c8c4-d295-4c2c-f234-83a8f4d255c5"
      },
      "outputs": [
        {
          "name": "stdout",
          "output_type": "stream",
          "text": [
            "W1 shape: (784, 300)\n",
            "b1 shape: (1, 300)\n",
            "W2 shape: (300, 10)\n",
            "b2 shape: (1, 10)\n"
          ]
        }
      ],
      "source": [
        "# Define network architecture\n",
        "input_size = 784  # 28x28 flattened\n",
        "hidden_size = 300  # Number of neurons in the hidden layer\n",
        "output_size = 10   # Number of classes (digits 0-9)\n",
        "\n",
        "# Initialize weights and biases\n",
        "np.random.seed(42)\n",
        "W1 = np.random.randn(input_size, hidden_size) * 0.01\n",
        "b1 = np.zeros((1, hidden_size))\n",
        "W2 = np.random.randn(hidden_size, output_size) * 0.01\n",
        "b2 = np.zeros((1, output_size))\n",
        "\n",
        "# Print parameter shapes\n",
        "print(\"W1 shape:\", W1.shape)\n",
        "print(\"b1 shape:\", b1.shape)\n",
        "print(\"W2 shape:\", W2.shape)\n",
        "print(\"b2 shape:\", b2.shape)\n"
      ]
    },
    {
      "cell_type": "markdown",
      "metadata": {
        "id": "qqT4DaFsoOcf"
      },
      "source": [
        "## Forward and Backward Propagation"
      ]
    },
    {
      "cell_type": "code",
      "execution_count": null,
      "metadata": {
        "id": "NYFL1L0SoToy"
      },
      "outputs": [],
      "source": [
        "def relu(z):\n",
        "    return np.maximum(0, z)\n",
        "\n",
        "def relu_derivative(z):\n",
        "    return (z > 0).astype(float)\n",
        "\n",
        "def softmax(z):\n",
        "    exp_z = np.exp(z - np.max(z, axis=1, keepdims=True))\n",
        "    return exp_z / np.sum(exp_z, axis=1, keepdims=True)\n",
        "\n",
        "# Cross-entropy loss\n",
        "def cross_entropy_loss(y_true, y_pred):\n",
        "    m = y_true.shape[0]\n",
        "    epsilon = 1e-15\n",
        "    y_pred = np.clip(y_pred, epsilon, 1 - epsilon)\n",
        "    return -np.sum(y_true * np.log(y_pred)) / m\n",
        "\n",
        "# Improved weight initialization\n",
        "def he_init(shape):\n",
        "    return np.random.randn(*shape) * np.sqrt(2 / shape[0])\n",
        "\n",
        "# Forward propagation\n",
        "def forward_propagation(X, W1, b1, W2, b2):\n",
        "    Z1 = np.dot(X, W1) + b1\n",
        "    A1 = relu(Z1)\n",
        "    Z2 = np.dot(A1, W2) + b2\n",
        "    A2 = softmax(Z2)\n",
        "    return Z1, A1, Z2, A2\n",
        "\n",
        "# Backward propagation\n",
        "def backward_propagation(X, y, Z1, A1, Z2, A2, W1, W2):\n",
        "    m = X.shape[0]\n",
        "\n",
        "    # Softmax + Cross-Entropy derivative\n",
        "    dZ2 = A2 - y\n",
        "    dW2 = np.dot(A1.T, dZ2) / m\n",
        "    db2 = np.sum(dZ2, axis=0, keepdims=True) / m\n",
        "\n",
        "    # ReLU derivative\n",
        "    dZ1 = np.dot(dZ2, W2.T) * relu_derivative(Z1)\n",
        "    dW1 = np.dot(X.T, dZ1) / m\n",
        "    db1 = np.sum(dZ1, axis=0, keepdims=True) / m\n",
        "\n",
        "    return dW1, db1, dW2, db2"
      ]
    },
    {
      "cell_type": "markdown",
      "metadata": {
        "id": "IuOWncaGoVpf"
      },
      "source": [
        "## Training"
      ]
    },
    {
      "cell_type": "code",
      "execution_count": null,
      "metadata": {
        "colab": {
          "background_save": true,
          "base_uri": "https://localhost:8080/"
        },
        "id": "DPR_tPcRoYFd",
        "outputId": "a82eedf5-0397-4a50-f6df-a111fa9d9b38"
      },
      "outputs": [
        {
          "name": "stdout",
          "output_type": "stream",
          "text": [
            "Epoch 10/200, Loss: 2.2948, Train Accuracy: 11.34%\n",
            "Epoch 20/200, Loss: 2.2945, Train Accuracy: 11.34%\n",
            "Epoch 30/200, Loss: 2.2943, Train Accuracy: 11.34%\n",
            "Epoch 40/200, Loss: 2.2941, Train Accuracy: 11.34%\n",
            "Epoch 50/200, Loss: 2.2939, Train Accuracy: 11.34%\n",
            "Epoch 60/200, Loss: 2.2938, Train Accuracy: 11.34%\n",
            "Epoch 70/200, Loss: 2.2937, Train Accuracy: 11.34%\n",
            "Epoch 80/200, Loss: 2.2936, Train Accuracy: 11.34%\n",
            "Epoch 90/200, Loss: 2.2935, Train Accuracy: 11.34%\n",
            "Epoch 100/200, Loss: 2.2934, Train Accuracy: 11.34%\n",
            "Epoch 110/200, Loss: 2.2934, Train Accuracy: 11.34%\n",
            "Epoch 120/200, Loss: 2.2933, Train Accuracy: 11.34%\n",
            "Epoch 130/200, Loss: 2.2932, Train Accuracy: 11.34%\n",
            "Epoch 140/200, Loss: 2.2932, Train Accuracy: 11.34%\n",
            "Epoch 150/200, Loss: 2.2931, Train Accuracy: 11.34%\n",
            "Epoch 160/200, Loss: 2.2930, Train Accuracy: 11.34%\n",
            "Epoch 170/200, Loss: 2.2930, Train Accuracy: 11.34%\n",
            "Epoch 180/200, Loss: 2.2929, Train Accuracy: 11.34%\n",
            "Epoch 190/200, Loss: 2.2929, Train Accuracy: 11.34%\n",
            "Epoch 200/200, Loss: 2.2928, Train Accuracy: 11.34%\n"
          ]
        },
        {
          "data": {
            "image/png": "[encoded data removed]",
            "text/plain": [
              "<Figure size 1200x400 with 2 Axes>"
            ]
          },
          "metadata": {},
          "output_type": "display_data"
        }
      ],
      "source": [
        "learning_rate = 0.01\n",
        "decay_rate = 0.1\n",
        "epochs = 200\n",
        "batch_size = 64\n",
        "\n",
        "# Initialize weights with He initialization\n",
        "W1 = he_init((input_size, hidden_size))\n",
        "b1 = np.zeros((1, hidden_size))\n",
        "W2 = he_init((hidden_size, output_size))\n",
        "b2 = np.zeros((1, output_size))\n",
        "\n",
        "# Training loop with mini-batch and learning rate decay\n",
        "losses = []\n",
        "accuracies = []\n",
        "\n",
        "for epoch in range(epochs):\n",
        "    # Learning rate decay\n",
        "    current_lr = learning_rate / (1 + decay_rate * epoch)\n",
        "\n",
        "    # Mini-batch training\n",
        "    for i in range(0, X_train.shape[0], batch_size):\n",
        "        X_batch = X_train[i:i+batch_size]\n",
        "        y_batch = y_train_onehot[i:i+batch_size]\n",
        "\n",
        "        # Forward propagation\n",
        "        Z1, A1, Z2, A2 = forward_propagation(X_batch, W1, b1, W2, b2)\n",
        "\n",
        "        # Compute loss\n",
        "        loss = cross_entropy_loss(y_batch, A2)\n",
        "        losses.append(loss)\n",
        "\n",
        "        # Backward propagation\n",
        "        dW1, db1, dW2, db2 = backward_propagation(X_batch, y_batch, Z1, A1, Z2, A2, W1, W2)\n",
        "\n",
        "        # Update weights and biases\n",
        "        W1 -= current_lr * dW1\n",
        "        b1 -= current_lr * db1\n",
        "        W2 -= current_lr * dW2\n",
        "        b2 -= current_lr * db2\n",
        "\n",
        "    # Compute training accuracy for monitoring\n",
        "    _, _, _, A2_train = forward_propagation(X_train, W1, b1, W2, b2)\n",
        "    y_pred_train = np.argmax(A2_train, axis=1)\n",
        "    y_true_train = np.argmax(y_train_onehot, axis=1)\n",
        "    train_accuracy = np.mean(y_pred_train == y_true_train)\n",
        "    accuracies.append(train_accuracy)\n",
        "\n",
        "    # Print progress\n",
        "    if (epoch + 1) % 10 == 0:\n",
        "        print(f\"Epoch {epoch + 1}/{epochs}, Loss: {loss:.4f}, Train Accuracy: {train_accuracy*100:.2f}%\")\n",
        "\n",
        "# Plotting\n",
        "plt.figure(figsize=(12,4))\n",
        "plt.subplot(121)\n",
        "plt.plot(losses)\n",
        "plt.title('Training Loss')\n",
        "plt.xlabel('Iterations')\n",
        "plt.ylabel('Loss')\n",
        "\n",
        "plt.subplot(122)\n",
        "plt.plot(accuracies)\n",
        "plt.title('Training Accuracy')\n",
        "plt.xlabel('Epochs')\n",
        "plt.ylabel('Accuracy')\n",
        "plt.tight_layout()\n",
        "plt.show()\n"
      ]
    },
    {
      "cell_type": "markdown",
      "metadata": {
        "id": "mE2_Pbf8oZ6L"
      },
      "source": [
        "## Evaluation"
      ]
    },
    {
      "cell_type": "code",
      "execution_count": null,
      "metadata": {
        "colab": {
          "base_uri": "https://localhost:8080/"
        },
        "id": "EIQh0ZLEobWi",
        "outputId": "dcc6310f-039c-4b26-b8f9-252c24a54492"
      },
      "outputs": [
        {
          "name": "stdout",
          "output_type": "stream",
          "text": [
            "Test Accuracy: 96.54%\n"
          ]
        }
      ],
      "source": [
        "# Test the model\n",
        "_, _, _, A2_test = forward_propagation(X_test, W1, b1, W2, b2)\n",
        "y_pred = np.argmax(A2_test, axis=1)\n",
        "y_true = np.argmax(y_test_onehot, axis=1)\n",
        "\n",
        "# Calculate accuracy\n",
        "accuracy = np.mean(y_pred == y_true)\n",
        "print(f\"Test Accuracy: {accuracy * 100:.2f}%\")\n"
      ]
    }
  ],
  "metadata": {
    "colab": {
      "provenance": []
    },
    "kernelspec": {
      "display_name": "Python 3",
      "name": "python3"
    },
    "language_info": {
      "name": "python"
    }
  },
  "nbformat": 4,
  "nbformat_minor": 0
}